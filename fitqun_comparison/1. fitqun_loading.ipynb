{
 "cells": [
  {
   "cell_type": "code",
   "execution_count": 44,
   "metadata": {},
   "outputs": [],
   "source": [
    "import uproot\n",
    "import numpy as np"
   ]
  },
  {
   "cell_type": "code",
   "execution_count": 33,
   "metadata": {},
   "outputs": [],
   "source": [
    "file_data = uproot.open('/fast_scratch/WatChMaL/data/IWCD_mPMT_Short_e-_E0to1000MeV_unif-pos-R400-y300cm_4pi-dir.fiTQun.root')['fiTQun;1']"
   ]
  },
  {
   "cell_type": "code",
   "execution_count": 37,
   "metadata": {},
   "outputs": [
    {
     "name": "stdout",
     "output_type": "stream",
     "text": [
      "name                 | typename                 | interpretation                \n",
      "---------------------+--------------------------+-------------------------------\n",
      "cluster_ncand        | int32_t                  | AsDtype('>i4')\n",
      "cluster_tstart       | float[]                  | AsJagged(AsDtype('>f4'))\n",
      "cluster_tend         | float[]                  | AsJagged(AsDtype('>f4'))\n",
      "cluster_nhits        | int32_t[]                | AsJagged(AsDtype('>i4'))\n",
      "cluster_totq         | float[]                  | AsJagged(AsDtype('>f4'))\n",
      "cluster_goodflag     | int32_t[]                | AsJagged(AsDtype('>i4'))\n",
      "cluster_npeaks       | int32_t[][6]             | AsJagged(AsDtype(\"('>i4', (...\n",
      "cluster_ipeak        | int32_t[][6][10]         | AsJagged(AsDtype(\"('>i4', (...\n",
      "cluster_timeofpeak   | float[][6][10]           | AsJagged(AsDtype(\"('>f4', (...\n",
      "muechk_ncand         | int32_t[6]               | AsDtype(\"('>i4', (6,))\")\n",
      "muechk_toya          | float[6]                 | AsDtype(\"('>f4', (6,))\")\n",
      "muechk_tpeak         | float[6][10]             | AsDtype(\"('>f4', (6, 10))\")\n",
      "muechk_bg            | int32_t[6][10]           | AsDtype(\"('>i4', (6, 10))\")\n",
      "muechk_mean          | float[6][10]             | AsDtype(\"('>f4', (6, 10))\")\n",
      "muechk_excess        | float[6][10]             | AsDtype(\"('>f4', (6, 10))\")\n",
      "muechk_signif        | float[6][10]             | AsDtype(\"('>f4', (6, 10))\")\n",
      "muechk_icluster      | int32_t[6][10]           | AsDtype(\"('>i4', (6, 10))\")\n",
      "trgoff               | float                    | AsDtype('>f4')\n",
      "fqntwnd              | int32_t                  | AsDtype('>i4')\n",
      "fqtwnd_iclstr        | int32_t[]                | AsJagged(AsDtype('>i4'))\n",
      "fqtwnd_npeak         | int32_t[]                | AsJagged(AsDtype('>i4'))\n",
      "fqtwnd_prftt0        | float[]                  | AsJagged(AsDtype('>f4'))\n",
      "fqtwnd_prftpos       | float[][3]               | AsJagged(AsDtype(\"('>f4', (...\n",
      "fqtwnd               | float[][2]               | AsJagged(AsDtype(\"('>f4', (...\n",
      "fqtwnd_peakt0        | float[][10]              | AsJagged(AsDtype(\"('>f4', (...\n",
      "fqtwnd_peakiness     | float[][10]              | AsJagged(AsDtype(\"('>f4', (...\n",
      "fqnse                | int32_t                  | AsDtype('>i4')\n",
      "fqitwnd              | int32_t[]                | AsJagged(AsDtype('>i4'))\n",
      "fqipeak              | int32_t[]                | AsJagged(AsDtype('>i4'))\n",
      "fqnhitpmt            | int32_t[]                | AsJagged(AsDtype('>i4'))\n",
      "fqtotq               | float[]                  | AsJagged(AsDtype('>f4'))\n",
      "fq0rtotmu            | float[]                  | AsJagged(AsDtype('>f4'))\n",
      "fq0rnll              | float[]                  | AsJagged(AsDtype('>f4'))\n",
      "fqn50                | int32_t[]                | AsJagged(AsDtype('>i4'))\n",
      "fqq50                | float[]                  | AsJagged(AsDtype('>f4'))\n",
      "fq1rpcflg            | int32_t[][7]             | AsJagged(AsDtype(\"('>i4', (...\n",
      "fq1rmom              | float[][7]               | AsJagged(AsDtype(\"('>f4', (...\n",
      "fq1rt0               | float[][7]               | AsJagged(AsDtype(\"('>f4', (...\n",
      "fq1rtotmu            | float[][7]               | AsJagged(AsDtype(\"('>f4', (...\n",
      "fq1rnll              | float[][7]               | AsJagged(AsDtype(\"('>f4', (...\n",
      "fq1rpos              | float[][7][3]            | AsJagged(AsDtype(\"('>f4', (...\n",
      "fq1rdir              | float[][7][3]            | AsJagged(AsDtype(\"('>f4', (...\n",
      "fq1rdconv            | float[][7]               | AsJagged(AsDtype(\"('>f4', (...\n",
      "fq1reloss            | float[][7]               | AsJagged(AsDtype(\"('>f4', (...\n",
      "fqpi0pcflg           | int32_t[2]               | AsDtype(\"('>i4', (2,))\")\n",
      "fqpi0mom1            | float[2]                 | AsDtype(\"('>f4', (2,))\")\n",
      "fqpi0mom2            | float[2]                 | AsDtype(\"('>f4', (2,))\")\n",
      "fqpi0momtot          | float[2]                 | AsDtype(\"('>f4', (2,))\")\n",
      "fqpi0dconv1          | float[2]                 | AsDtype(\"('>f4', (2,))\")\n",
      "fqpi0dconv2          | float[2]                 | AsDtype(\"('>f4', (2,))\")\n",
      "fqpi0t0              | float[2]                 | AsDtype(\"('>f4', (2,))\")\n",
      "fqpi0totmu           | float[2]                 | AsDtype(\"('>f4', (2,))\")\n",
      "fqpi0nll             | float[2]                 | AsDtype(\"('>f4', (2,))\")\n",
      "fqpi0mass            | float[2]                 | AsDtype(\"('>f4', (2,))\")\n",
      "fqpi0photangle       | float[2]                 | AsDtype(\"('>f4', (2,))\")\n",
      "fqpi0pos             | float[2][3]              | AsDtype(\"('>f4', (2, 3))\")\n",
      "fqpi0dir1            | float[2][3]              | AsDtype(\"('>f4', (2, 3))\")\n",
      "fqpi0dir2            | float[2][3]              | AsDtype(\"('>f4', (2, 3))\")\n",
      "fqpi0dirtot          | float[2][3]              | AsDtype(\"('>f4', (2, 3))\")\n",
      "fq2elecmom1          | float                    | AsDtype('>f4')\n",
      "fq2elecmom2          | float                    | AsDtype('>f4')\n",
      "fq2elect0            | float                    | AsDtype('>f4')\n",
      "fq2electotmu         | float                    | AsDtype('>f4')\n",
      "fq2elecnll           | float                    | AsDtype('>f4')\n",
      "fq2elecpos           | float[3]                 | AsDtype(\"('>f4', (3,))\")\n",
      "fq2elecdir           | float[3]                 | AsDtype(\"('>f4', (3,))\")\n",
      "fqnmrfit             | int32_t                  | AsDtype('>i4')\n",
      "fqmrifit             | int32_t[]                | AsJagged(AsDtype('>i4'))\n",
      "fqmrnring            | int32_t[]                | AsJagged(AsDtype('>i4'))\n",
      "fqmrpcflg            | int32_t[]                | AsJagged(AsDtype('>i4'))\n",
      "fqmrnll              | float[]                  | AsJagged(AsDtype('>f4'))\n",
      "fqmrtotmu            | float[]                  | AsJagged(AsDtype('>f4'))\n",
      "fqmrpid              | int32_t[][6]             | AsJagged(AsDtype(\"('>i4', (...\n",
      "fqmrmom              | float[][6]               | AsJagged(AsDtype(\"('>f4', (...\n",
      "fqmrdconv            | float[][6]               | AsJagged(AsDtype(\"('>f4', (...\n",
      "fqmreloss            | float[][6]               | AsJagged(AsDtype(\"('>f4', (...\n",
      "fqmrt0               | float[][6]               | AsJagged(AsDtype(\"('>f4', (...\n",
      "fqmrpos              | float[][6][3]            | AsJagged(AsDtype(\"('>f4', (...\n",
      "fqmrdir              | float[][6][3]            | AsJagged(AsDtype(\"('>f4', (...\n",
      "fqmsnfit             | int32_t                  | AsDtype('>i4')\n",
      "fqmspcflg            | int32_t[]                | AsJagged(AsDtype('>i4'))\n",
      "fqmsnseg             | int32_t[]                | AsJagged(AsDtype('>i4'))\n",
      "fqmspid              | int32_t[]                | AsJagged(AsDtype('>i4'))\n",
      "fqmsifit             | int32_t[]                | AsJagged(AsDtype('>i4'))\n",
      "fqmsimer             | int32_t[]                | AsJagged(AsDtype('>i4'))\n",
      "fqmstotmu            | float[]                  | AsJagged(AsDtype('>f4'))\n",
      "fqmsnll              | float[]                  | AsJagged(AsDtype('>f4'))\n",
      "fqmsmom              | float[][20]              | AsJagged(AsDtype(\"('>f4', (...\n",
      "fqmseloss            | float[][20]              | AsJagged(AsDtype(\"('>f4', (...\n",
      "fqmst0               | float[][20]              | AsJagged(AsDtype(\"('>f4', (...\n",
      "fqmspos              | float[][20][3]           | AsJagged(AsDtype(\"('>f4', (...\n",
      "fqmsdir              | float[][20][3]           | AsJagged(AsDtype(\"('>f4', (...\n",
      "fqtestn1r            | int32_t                  | AsDtype('>i4')\n",
      "fqtest1rstage        | int32_t[]                | AsJagged(AsDtype('>i4'))\n",
      "fqtest1rse           | int32_t[]                | AsJagged(AsDtype('>i4'))\n",
      "fqtest1rpid          | int32_t[]                | AsJagged(AsDtype('>i4'))\n",
      "fqtest1rpcflg        | int32_t[]                | AsJagged(AsDtype('>i4'))\n",
      "fqtest1rmom          | float[]                  | AsJagged(AsDtype('>f4'))\n",
      "fqtest1rt0           | float[]                  | AsJagged(AsDtype('>f4'))\n",
      "fqtest1rtotmu        | float[]                  | AsJagged(AsDtype('>f4'))\n",
      "fqtest1rnll          | float[]                  | AsJagged(AsDtype('>f4'))\n",
      "fqtest1rpos          | float[][3]               | AsJagged(AsDtype(\"('>f4', (...\n",
      "fqtest1rdir          | float[][3]               | AsJagged(AsDtype(\"('>f4', (...\n",
      "fqtest1rdconv        | float[]                  | AsJagged(AsDtype('>f4'))\n",
      "fqtest1reloss        | float[]                  | AsJagged(AsDtype('>f4'))\n",
      "fqtestnpi0           | int32_t                  | AsDtype('>i4')\n",
      "fqtestpi0stage       | int32_t[]                | AsJagged(AsDtype('>i4'))\n",
      "fqtestpi0pcflg       | int32_t[]                | AsJagged(AsDtype('>i4'))\n",
      "fqtestpi0mom1        | float[]                  | AsJagged(AsDtype('>f4'))\n",
      "fqtestpi0mom2        | float[]                  | AsJagged(AsDtype('>f4'))\n",
      "fqtestpi0momtot      | float[]                  | AsJagged(AsDtype('>f4'))\n",
      "fqtestpi0dconv1      | float[]                  | AsJagged(AsDtype('>f4'))\n",
      "fqtestpi0dconv2      | float[]                  | AsJagged(AsDtype('>f4'))\n",
      "fqtestpi0t0          | float[]                  | AsJagged(AsDtype('>f4'))\n",
      "fqtestpi0totmu       | float[]                  | AsJagged(AsDtype('>f4'))\n",
      "fqtestpi0nll         | float[]                  | AsJagged(AsDtype('>f4'))\n",
      "fqtestpi0mass        | float[]                  | AsJagged(AsDtype('>f4'))\n",
      "fqtestpi0photangle   | float[]                  | AsJagged(AsDtype('>f4'))\n",
      "fqtestpi0pos         | float[][3]               | AsJagged(AsDtype(\"('>f4', (...\n",
      "fqtestpi0dir1        | float[][3]               | AsJagged(AsDtype(\"('>f4', (...\n",
      "fqtestpi0dir2        | float[][3]               | AsJagged(AsDtype(\"('>f4', (...\n",
      "fqtestpi0dirtot      | float[][3]               | AsJagged(AsDtype(\"('>f4', (...\n",
      "fqpmgpcflg           | int32_t[2]               | AsDtype(\"('>i4', (2,))\")\n",
      "fqpmgmom1            | float[2]                 | AsDtype(\"('>f4', (2,))\")\n",
      "fqpmgmom2            | float[2]                 | AsDtype(\"('>f4', (2,))\")\n",
      "fqpmgt01             | float[2]                 | AsDtype(\"('>f4', (2,))\")\n",
      "fqpmgt02             | float[2]                 | AsDtype(\"('>f4', (2,))\")\n",
      "fqpmgtotmu           | float[2]                 | AsDtype(\"('>f4', (2,))\")\n",
      "fqpmgnll             | float[2]                 | AsDtype(\"('>f4', (2,))\")\n",
      "fqpmgpos1            | float[2][3]              | AsDtype(\"('>f4', (2, 3))\")\n",
      "fqpmgpos2            | float[2][3]              | AsDtype(\"('>f4', (2, 3))\")\n",
      "fqpmgdir1            | float[2][3]              | AsDtype(\"('>f4', (2, 3))\")\n",
      "fqpmgdir2            | float[2][3]              | AsDtype(\"('>f4', (2, 3))\")\n",
      "ifqver               | int32_t                  | AsDtype('>i4')\n",
      "fqproctime           | float[20]                | AsDtype(\"('>f4', (20,))\")\n",
      "nevt                 | int32_t                  | AsDtype('>i4')\n",
      "None\n"
     ]
    }
   ],
   "source": [
    "print(file_data.show())"
   ]
  },
  {
   "cell_type": "code",
   "execution_count": 36,
   "metadata": {},
   "outputs": [
    {
     "name": "stdout",
     "output_type": "stream",
     "text": [
      "[{fq1rnll: [[0, 5.27e+03, 5.28e+03, 5.2e+03, 0, ... 8.06e+03, 7.84e+03, 0, 0, 0]]}]\n"
     ]
    }
   ],
   "source": [
    "print(file_data.arrays('fq1rnll'))"
   ]
  },
  {
   "cell_type": "code",
   "execution_count": 42,
   "metadata": {},
   "outputs": [],
   "source": [
    "fq1rnll = file_data.arrays('fq1rnll')['fq1rnll']"
   ]
  },
  {
   "cell_type": "code",
   "execution_count": null,
   "metadata": {},
   "outputs": [],
   "source": []
  },
  {
   "cell_type": "code",
   "execution_count": 62,
   "metadata": {},
   "outputs": [
    {
     "name": "stdout",
     "output_type": "stream",
     "text": [
      "[[0, 5.36e+03, 5.49e+03, 5.49e+03, 0, 0, 0]]\n"
     ]
    }
   ],
   "source": [
    "print(fq1rnll[50])"
   ]
  },
  {
   "cell_type": "code",
   "execution_count": 51,
   "metadata": {},
   "outputs": [
    {
     "ename": "ValueError",
     "evalue": "in RegularArray attempting to get 2, index out of range\n\n(https://github.com/scikit-hep/awkward-1.0/blob/1.0.2/src/libawkward/array/RegularArray.cpp#L587)",
     "output_type": "error",
     "traceback": [
      "\u001b[0;31m---------------------------------------------------------------------------\u001b[0m",
      "\u001b[0;31mValueError\u001b[0m                                Traceback (most recent call last)",
      "\u001b[0;32m<ipython-input-51-9127fb94ff11>\u001b[0m in \u001b[0;36m<module>\u001b[0;34m\u001b[0m\n\u001b[0;32m----> 1\u001b[0;31m \u001b[0menll\u001b[0m \u001b[0;34m=\u001b[0m \u001b[0mfq1rnll\u001b[0m\u001b[0;34m[\u001b[0m\u001b[0;34m:\u001b[0m\u001b[0;34m]\u001b[0m\u001b[0;34m[\u001b[0m\u001b[0;36m0\u001b[0m\u001b[0;34m]\u001b[0m\u001b[0;34m[\u001b[0m\u001b[0;36m2\u001b[0m\u001b[0;34m]\u001b[0m\u001b[0;34m\u001b[0m\u001b[0;34m\u001b[0m\u001b[0m\n\u001b[0m",
      "\u001b[0;32m/opt/conda/lib/python3.6/site-packages/awkward/highlevel.py\u001b[0m in \u001b[0;36m__getitem__\u001b[0;34m(self, where)\u001b[0m\n\u001b[1;32m   1003\u001b[0m         \u001b[0mhave\u001b[0m \u001b[0mthe\u001b[0m \u001b[0msame\u001b[0m \u001b[0mdimension\u001b[0m \u001b[0;32mas\u001b[0m \u001b[0mthe\u001b[0m \u001b[0marray\u001b[0m \u001b[0mbeing\u001b[0m \u001b[0mindexed\u001b[0m\u001b[0;34m.\u001b[0m\u001b[0;34m\u001b[0m\u001b[0;34m\u001b[0m\u001b[0m\n\u001b[1;32m   1004\u001b[0m         \"\"\"\n\u001b[0;32m-> 1005\u001b[0;31m         \u001b[0;32mreturn\u001b[0m \u001b[0mak\u001b[0m\u001b[0;34m.\u001b[0m\u001b[0m_util\u001b[0m\u001b[0;34m.\u001b[0m\u001b[0mwrap\u001b[0m\u001b[0;34m(\u001b[0m\u001b[0mself\u001b[0m\u001b[0;34m.\u001b[0m\u001b[0m_layout\u001b[0m\u001b[0;34m[\u001b[0m\u001b[0mwhere\u001b[0m\u001b[0;34m]\u001b[0m\u001b[0;34m,\u001b[0m \u001b[0mself\u001b[0m\u001b[0;34m.\u001b[0m\u001b[0m_behavior\u001b[0m\u001b[0;34m)\u001b[0m\u001b[0;34m\u001b[0m\u001b[0;34m\u001b[0m\u001b[0m\n\u001b[0m\u001b[1;32m   1006\u001b[0m \u001b[0;34m\u001b[0m\u001b[0m\n\u001b[1;32m   1007\u001b[0m     \u001b[0;32mdef\u001b[0m \u001b[0m__setitem__\u001b[0m\u001b[0;34m(\u001b[0m\u001b[0mself\u001b[0m\u001b[0;34m,\u001b[0m \u001b[0mwhere\u001b[0m\u001b[0;34m,\u001b[0m \u001b[0mwhat\u001b[0m\u001b[0;34m)\u001b[0m\u001b[0;34m:\u001b[0m\u001b[0;34m\u001b[0m\u001b[0;34m\u001b[0m\u001b[0m\n",
      "\u001b[0;31mValueError\u001b[0m: in RegularArray attempting to get 2, index out of range\n\n(https://github.com/scikit-hep/awkward-1.0/blob/1.0.2/src/libawkward/array/RegularArray.cpp#L587)"
     ]
    }
   ],
   "source": [
    "enll = fq1rnll[:][0][2]"
   ]
  },
  {
   "cell_type": "code",
   "execution_count": 50,
   "metadata": {},
   "outputs": [
    {
     "name": "stdout",
     "output_type": "stream",
     "text": [
      "5271.5068359375\n"
     ]
    }
   ],
   "source": [
    "print(fq1rnll[0][0][1])"
   ]
  },
  {
   "cell_type": "code",
   "execution_count": 25,
   "metadata": {},
   "outputs": [
    {
     "ename": "AttributeError",
     "evalue": "no field named 'shape'\n\n(https://github.com/scikit-hep/awkward-1.0/blob/1.0.2/src/awkward/highlevel.py#L1125)",
     "output_type": "error",
     "traceback": [
      "\u001b[0;31m---------------------------------------------------------------------------\u001b[0m",
      "\u001b[0;31mAttributeError\u001b[0m                            Traceback (most recent call last)",
      "\u001b[0;32m<ipython-input-25-567b58649577>\u001b[0m in \u001b[0;36m<module>\u001b[0;34m\u001b[0m\n\u001b[0;32m----> 1\u001b[0;31m \u001b[0mprint\u001b[0m\u001b[0;34m(\u001b[0m\u001b[0mfile_data\u001b[0m\u001b[0;34m[\u001b[0m\u001b[0;34m'fq1rnll'\u001b[0m\u001b[0;34m]\u001b[0m\u001b[0;34m.\u001b[0m\u001b[0marray\u001b[0m\u001b[0;34m(\u001b[0m\u001b[0;34m)\u001b[0m\u001b[0;34m.\u001b[0m\u001b[0mshape\u001b[0m\u001b[0;34m)\u001b[0m\u001b[0;34m\u001b[0m\u001b[0;34m\u001b[0m\u001b[0m\n\u001b[0m",
      "\u001b[0;32m/opt/conda/lib/python3.6/site-packages/awkward/highlevel.py\u001b[0m in \u001b[0;36m__getattr__\u001b[0;34m(self, where)\u001b[0m\n\u001b[1;32m   1123\u001b[0m                 raise AttributeError(\n\u001b[1;32m   1124\u001b[0m                     \u001b[0;34m\"no field named {0}\"\u001b[0m\u001b[0;34m.\u001b[0m\u001b[0mformat\u001b[0m\u001b[0;34m(\u001b[0m\u001b[0mrepr\u001b[0m\u001b[0;34m(\u001b[0m\u001b[0mwhere\u001b[0m\u001b[0;34m)\u001b[0m\u001b[0;34m)\u001b[0m\u001b[0;34m\u001b[0m\u001b[0;34m\u001b[0m\u001b[0m\n\u001b[0;32m-> 1125\u001b[0;31m                     \u001b[0;34m+\u001b[0m \u001b[0mak\u001b[0m\u001b[0;34m.\u001b[0m\u001b[0m_util\u001b[0m\u001b[0;34m.\u001b[0m\u001b[0mexception_suffix\u001b[0m\u001b[0;34m(\u001b[0m\u001b[0m__file__\u001b[0m\u001b[0;34m)\u001b[0m\u001b[0;34m\u001b[0m\u001b[0;34m\u001b[0m\u001b[0m\n\u001b[0m\u001b[1;32m   1126\u001b[0m                 )\n\u001b[1;32m   1127\u001b[0m \u001b[0;34m\u001b[0m\u001b[0m\n",
      "\u001b[0;31mAttributeError\u001b[0m: no field named 'shape'\n\n(https://github.com/scikit-hep/awkward-1.0/blob/1.0.2/src/awkward/highlevel.py#L1125)"
     ]
    }
   ],
   "source": [
    "print(file_data['fq1rnll'].array())"
   ]
  },
  {
   "cell_type": "code",
   "execution_count": 21,
   "metadata": {},
   "outputs": [
    {
     "name": "stdout",
     "output_type": "stream",
     "text": [
      "name                 | typename                 | interpretation                \n",
      "---------------------+--------------------------+-------------------------------\n",
      "cluster_ncand        | int32_t                  | AsDtype('>i4')\n",
      "cluster_tstart       | float[]                  | AsJagged(AsDtype('>f4'))\n",
      "cluster_tend         | float[]                  | AsJagged(AsDtype('>f4'))\n",
      "cluster_nhits        | int32_t[]                | AsJagged(AsDtype('>i4'))\n",
      "cluster_totq         | float[]                  | AsJagged(AsDtype('>f4'))\n",
      "cluster_goodflag     | int32_t[]                | AsJagged(AsDtype('>i4'))\n",
      "cluster_npeaks       | int32_t[][6]             | AsJagged(AsDtype(\"('>i4', (...\n",
      "cluster_ipeak        | int32_t[][6][10]         | AsJagged(AsDtype(\"('>i4', (...\n",
      "cluster_timeofpeak   | float[][6][10]           | AsJagged(AsDtype(\"('>f4', (...\n",
      "muechk_ncand         | int32_t[6]               | AsDtype(\"('>i4', (6,))\")\n",
      "muechk_toya          | float[6]                 | AsDtype(\"('>f4', (6,))\")\n",
      "muechk_tpeak         | float[6][10]             | AsDtype(\"('>f4', (6, 10))\")\n",
      "muechk_bg            | int32_t[6][10]           | AsDtype(\"('>i4', (6, 10))\")\n",
      "muechk_mean          | float[6][10]             | AsDtype(\"('>f4', (6, 10))\")\n",
      "muechk_excess        | float[6][10]             | AsDtype(\"('>f4', (6, 10))\")\n",
      "muechk_signif        | float[6][10]             | AsDtype(\"('>f4', (6, 10))\")\n",
      "muechk_icluster      | int32_t[6][10]           | AsDtype(\"('>i4', (6, 10))\")\n",
      "trgoff               | float                    | AsDtype('>f4')\n",
      "fqntwnd              | int32_t                  | AsDtype('>i4')\n",
      "fqtwnd_iclstr        | int32_t[]                | AsJagged(AsDtype('>i4'))\n",
      "fqtwnd_npeak         | int32_t[]                | AsJagged(AsDtype('>i4'))\n",
      "fqtwnd_prftt0        | float[]                  | AsJagged(AsDtype('>f4'))\n",
      "fqtwnd_prftpos       | float[][3]               | AsJagged(AsDtype(\"('>f4', (...\n",
      "fqtwnd               | float[][2]               | AsJagged(AsDtype(\"('>f4', (...\n",
      "fqtwnd_peakt0        | float[][10]              | AsJagged(AsDtype(\"('>f4', (...\n",
      "fqtwnd_peakiness     | float[][10]              | AsJagged(AsDtype(\"('>f4', (...\n",
      "fqnse                | int32_t                  | AsDtype('>i4')\n",
      "fqitwnd              | int32_t[]                | AsJagged(AsDtype('>i4'))\n",
      "fqipeak              | int32_t[]                | AsJagged(AsDtype('>i4'))\n",
      "fqnhitpmt            | int32_t[]                | AsJagged(AsDtype('>i4'))\n",
      "fqtotq               | float[]                  | AsJagged(AsDtype('>f4'))\n",
      "fq0rtotmu            | float[]                  | AsJagged(AsDtype('>f4'))\n",
      "fq0rnll              | float[]                  | AsJagged(AsDtype('>f4'))\n",
      "fqn50                | int32_t[]                | AsJagged(AsDtype('>i4'))\n",
      "fqq50                | float[]                  | AsJagged(AsDtype('>f4'))\n",
      "fq1rpcflg            | int32_t[][7]             | AsJagged(AsDtype(\"('>i4', (...\n",
      "fq1rmom              | float[][7]               | AsJagged(AsDtype(\"('>f4', (...\n",
      "fq1rt0               | float[][7]               | AsJagged(AsDtype(\"('>f4', (...\n",
      "fq1rtotmu            | float[][7]               | AsJagged(AsDtype(\"('>f4', (...\n",
      "fq1rnll              | float[][7]               | AsJagged(AsDtype(\"('>f4', (...\n",
      "fq1rpos              | float[][7][3]            | AsJagged(AsDtype(\"('>f4', (...\n",
      "fq1rdir              | float[][7][3]            | AsJagged(AsDtype(\"('>f4', (...\n",
      "fq1rdconv            | float[][7]               | AsJagged(AsDtype(\"('>f4', (...\n",
      "fq1reloss            | float[][7]               | AsJagged(AsDtype(\"('>f4', (...\n",
      "fqpi0pcflg           | int32_t[2]               | AsDtype(\"('>i4', (2,))\")\n",
      "fqpi0mom1            | float[2]                 | AsDtype(\"('>f4', (2,))\")\n",
      "fqpi0mom2            | float[2]                 | AsDtype(\"('>f4', (2,))\")\n",
      "fqpi0momtot          | float[2]                 | AsDtype(\"('>f4', (2,))\")\n",
      "fqpi0dconv1          | float[2]                 | AsDtype(\"('>f4', (2,))\")\n",
      "fqpi0dconv2          | float[2]                 | AsDtype(\"('>f4', (2,))\")\n",
      "fqpi0t0              | float[2]                 | AsDtype(\"('>f4', (2,))\")\n",
      "fqpi0totmu           | float[2]                 | AsDtype(\"('>f4', (2,))\")\n",
      "fqpi0nll             | float[2]                 | AsDtype(\"('>f4', (2,))\")\n",
      "fqpi0mass            | float[2]                 | AsDtype(\"('>f4', (2,))\")\n",
      "fqpi0photangle       | float[2]                 | AsDtype(\"('>f4', (2,))\")\n",
      "fqpi0pos             | float[2][3]              | AsDtype(\"('>f4', (2, 3))\")\n",
      "fqpi0dir1            | float[2][3]              | AsDtype(\"('>f4', (2, 3))\")\n",
      "fqpi0dir2            | float[2][3]              | AsDtype(\"('>f4', (2, 3))\")\n",
      "fqpi0dirtot          | float[2][3]              | AsDtype(\"('>f4', (2, 3))\")\n",
      "fq2elecmom1          | float                    | AsDtype('>f4')\n",
      "fq2elecmom2          | float                    | AsDtype('>f4')\n",
      "fq2elect0            | float                    | AsDtype('>f4')\n",
      "fq2electotmu         | float                    | AsDtype('>f4')\n",
      "fq2elecnll           | float                    | AsDtype('>f4')\n",
      "fq2elecpos           | float[3]                 | AsDtype(\"('>f4', (3,))\")\n",
      "fq2elecdir           | float[3]                 | AsDtype(\"('>f4', (3,))\")\n",
      "fqnmrfit             | int32_t                  | AsDtype('>i4')\n",
      "fqmrifit             | int32_t[]                | AsJagged(AsDtype('>i4'))\n",
      "fqmrnring            | int32_t[]                | AsJagged(AsDtype('>i4'))\n",
      "fqmrpcflg            | int32_t[]                | AsJagged(AsDtype('>i4'))\n",
      "fqmrnll              | float[]                  | AsJagged(AsDtype('>f4'))\n",
      "fqmrtotmu            | float[]                  | AsJagged(AsDtype('>f4'))\n",
      "fqmrpid              | int32_t[][6]             | AsJagged(AsDtype(\"('>i4', (...\n",
      "fqmrmom              | float[][6]               | AsJagged(AsDtype(\"('>f4', (...\n",
      "fqmrdconv            | float[][6]               | AsJagged(AsDtype(\"('>f4', (...\n",
      "fqmreloss            | float[][6]               | AsJagged(AsDtype(\"('>f4', (...\n",
      "fqmrt0               | float[][6]               | AsJagged(AsDtype(\"('>f4', (...\n",
      "fqmrpos              | float[][6][3]            | AsJagged(AsDtype(\"('>f4', (...\n",
      "fqmrdir              | float[][6][3]            | AsJagged(AsDtype(\"('>f4', (...\n",
      "fqmsnfit             | int32_t                  | AsDtype('>i4')\n",
      "fqmspcflg            | int32_t[]                | AsJagged(AsDtype('>i4'))\n",
      "fqmsnseg             | int32_t[]                | AsJagged(AsDtype('>i4'))\n",
      "fqmspid              | int32_t[]                | AsJagged(AsDtype('>i4'))\n",
      "fqmsifit             | int32_t[]                | AsJagged(AsDtype('>i4'))\n",
      "fqmsimer             | int32_t[]                | AsJagged(AsDtype('>i4'))\n",
      "fqmstotmu            | float[]                  | AsJagged(AsDtype('>f4'))\n",
      "fqmsnll              | float[]                  | AsJagged(AsDtype('>f4'))\n",
      "fqmsmom              | float[][20]              | AsJagged(AsDtype(\"('>f4', (...\n",
      "fqmseloss            | float[][20]              | AsJagged(AsDtype(\"('>f4', (...\n",
      "fqmst0               | float[][20]              | AsJagged(AsDtype(\"('>f4', (...\n",
      "fqmspos              | float[][20][3]           | AsJagged(AsDtype(\"('>f4', (...\n",
      "fqmsdir              | float[][20][3]           | AsJagged(AsDtype(\"('>f4', (...\n",
      "fqtestn1r            | int32_t                  | AsDtype('>i4')\n",
      "fqtest1rstage        | int32_t[]                | AsJagged(AsDtype('>i4'))\n",
      "fqtest1rse           | int32_t[]                | AsJagged(AsDtype('>i4'))\n",
      "fqtest1rpid          | int32_t[]                | AsJagged(AsDtype('>i4'))\n",
      "fqtest1rpcflg        | int32_t[]                | AsJagged(AsDtype('>i4'))\n",
      "fqtest1rmom          | float[]                  | AsJagged(AsDtype('>f4'))\n",
      "fqtest1rt0           | float[]                  | AsJagged(AsDtype('>f4'))\n",
      "fqtest1rtotmu        | float[]                  | AsJagged(AsDtype('>f4'))\n",
      "fqtest1rnll          | float[]                  | AsJagged(AsDtype('>f4'))\n",
      "fqtest1rpos          | float[][3]               | AsJagged(AsDtype(\"('>f4', (...\n",
      "fqtest1rdir          | float[][3]               | AsJagged(AsDtype(\"('>f4', (...\n",
      "fqtest1rdconv        | float[]                  | AsJagged(AsDtype('>f4'))\n",
      "fqtest1reloss        | float[]                  | AsJagged(AsDtype('>f4'))\n",
      "fqtestnpi0           | int32_t                  | AsDtype('>i4')\n",
      "fqtestpi0stage       | int32_t[]                | AsJagged(AsDtype('>i4'))\n",
      "fqtestpi0pcflg       | int32_t[]                | AsJagged(AsDtype('>i4'))\n",
      "fqtestpi0mom1        | float[]                  | AsJagged(AsDtype('>f4'))\n",
      "fqtestpi0mom2        | float[]                  | AsJagged(AsDtype('>f4'))\n",
      "fqtestpi0momtot      | float[]                  | AsJagged(AsDtype('>f4'))\n",
      "fqtestpi0dconv1      | float[]                  | AsJagged(AsDtype('>f4'))\n",
      "fqtestpi0dconv2      | float[]                  | AsJagged(AsDtype('>f4'))\n",
      "fqtestpi0t0          | float[]                  | AsJagged(AsDtype('>f4'))\n",
      "fqtestpi0totmu       | float[]                  | AsJagged(AsDtype('>f4'))\n",
      "fqtestpi0nll         | float[]                  | AsJagged(AsDtype('>f4'))\n",
      "fqtestpi0mass        | float[]                  | AsJagged(AsDtype('>f4'))\n",
      "fqtestpi0photangle   | float[]                  | AsJagged(AsDtype('>f4'))\n",
      "fqtestpi0pos         | float[][3]               | AsJagged(AsDtype(\"('>f4', (...\n",
      "fqtestpi0dir1        | float[][3]               | AsJagged(AsDtype(\"('>f4', (...\n",
      "fqtestpi0dir2        | float[][3]               | AsJagged(AsDtype(\"('>f4', (...\n",
      "fqtestpi0dirtot      | float[][3]               | AsJagged(AsDtype(\"('>f4', (...\n",
      "fqpmgpcflg           | int32_t[2]               | AsDtype(\"('>i4', (2,))\")\n",
      "fqpmgmom1            | float[2]                 | AsDtype(\"('>f4', (2,))\")\n",
      "fqpmgmom2            | float[2]                 | AsDtype(\"('>f4', (2,))\")\n",
      "fqpmgt01             | float[2]                 | AsDtype(\"('>f4', (2,))\")\n",
      "fqpmgt02             | float[2]                 | AsDtype(\"('>f4', (2,))\")\n",
      "fqpmgtotmu           | float[2]                 | AsDtype(\"('>f4', (2,))\")\n",
      "fqpmgnll             | float[2]                 | AsDtype(\"('>f4', (2,))\")\n",
      "fqpmgpos1            | float[2][3]              | AsDtype(\"('>f4', (2, 3))\")\n",
      "fqpmgpos2            | float[2][3]              | AsDtype(\"('>f4', (2, 3))\")\n",
      "fqpmgdir1            | float[2][3]              | AsDtype(\"('>f4', (2, 3))\")\n",
      "fqpmgdir2            | float[2][3]              | AsDtype(\"('>f4', (2, 3))\")\n",
      "ifqver               | int32_t                  | AsDtype('>i4')\n",
      "fqproctime           | float[20]                | AsDtype(\"('>f4', (20,))\")\n",
      "nevt                 | int32_t                  | AsDtype('>i4')\n",
      "None\n"
     ]
    }
   ],
   "source": [
    "print(file_data.show())"
   ]
  },
  {
   "cell_type": "code",
   "execution_count": null,
   "metadata": {},
   "outputs": [],
   "source": [
    "fq1rnll"
   ]
  },
  {
   "cell_type": "code",
   "execution_count": null,
   "metadata": {},
   "outputs": [],
   "source": [
    "fitqun_files = [\n",
    "'/fast_scratch/WatChMaL/data/IWCD_mPMT_Short_e-_E0to1000MeV_unif-pos-R400-y300cm_4pi-dir.fiTQun.root'\n",
    "'/fast_scratch/WatChMaL/data/IWCD_mPMT_Short_gamma_E0to1000MeV_unif-pos-R400-y300cm_4pi-dir.fiTQun.root'\n",
    "'/fast_scratch/WatChMaL/data/IWCD_mPMT_Short_mu-_E0to1000MeV_unif-pos-R400-y300cm_4pi-dir.fiTQun.root'\n",
    "'/fast_scratch/WatChMaL/data/IWCD_mPMT_Short_pi0_E0to1000MeV_unif-pos-R400-y300cm_4pi-dir.fiTQun.root'\n",
    "]"
   ]
  }
 ],
 "metadata": {
  "kernelspec": {
   "display_name": "Python 3",
   "language": "python",
   "name": "python3"
  },
  "language_info": {
   "codemirror_mode": {
    "name": "ipython",
    "version": 3
   },
   "file_extension": ".py",
   "mimetype": "text/x-python",
   "name": "python",
   "nbconvert_exporter": "python",
   "pygments_lexer": "ipython3",
   "version": "3.6.10"
  }
 },
 "nbformat": 4,
 "nbformat_minor": 4
}
